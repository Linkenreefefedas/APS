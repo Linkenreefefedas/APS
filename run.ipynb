{
 "cells": [
  {
   "cell_type": "code",
   "execution_count": 2,
   "metadata": {
    "colab": {
     "base_uri": "https://localhost:8080/"
    },
    "executionInfo": {
     "elapsed": 24538,
     "status": "ok",
     "timestamp": 1755956490409,
     "user": {
      "displayName": "Cccsz B",
      "userId": "04407733429697009593"
     },
     "user_tz": -480
    },
    "id": "592bu6820AEN",
    "outputId": "6d30b6b4-5c08-4d9f-ab57-5387f012f3e1"
   },
   "outputs": [
    {
     "name": "stdout",
     "output_type": "stream",
     "text": [
      "Mounted at /content/drive\n"
     ]
    }
   ],
   "source": [
    "from google.colab import drive\n",
    "drive.mount('/content/drive',force_remount=True)"
   ]
  },
  {
   "cell_type": "code",
   "execution_count": null,
   "metadata": {
    "colab": {
     "base_uri": "https://localhost:8080/"
    },
    "executionInfo": {
     "elapsed": 845,
     "status": "ok",
     "timestamp": 1755956497822,
     "user": {
      "displayName": "Cccsz B",
      "userId": "04407733429697009593"
     },
     "user_tz": -480
    },
    "id": "3npUhapL0Ii8",
    "outputId": "eb063c42-793b-4ec6-8c2a-c3d553e1e01d"
   },
   "outputs": [],
   "source": [
    "import os, shutil\n",
    "\n",
    "# 建立 kaggle 設定目錄\n",
    "os.makedirs(\"/root/.kaggle\", exist_ok=True)\n",
    "\n",
    "# 從 Google Drive 複製 kaggle.json\n",
    "src = \"/content/drive/MyDrive/kaggle.json\"\n",
    "dst = \"/root/.kaggle/kaggle.json\"\n",
    "\n",
    "assert os.path.exists(src), \"❌ 沒找到 kaggle.json，請先上傳到 Google Drive\"\n",
    "shutil.copy(src, dst)\n",
    "os.chmod(dst, 0o600)\n",
    "print(\"✅ Kaggle API 已設定完成\")\n"
   ]
  },
  {
   "cell_type": "code",
   "execution_count": null,
   "metadata": {
    "colab": {
     "base_uri": "https://localhost:8080/"
    },
    "executionInfo": {
     "elapsed": 3453,
     "status": "ok",
     "timestamp": 1755956503216,
     "user": {
      "displayName": "Cccsz B",
      "userId": "04407733429697009593"
     },
     "user_tz": -480
    },
    "id": "fZwW7-Xs0I-o",
    "outputId": "7f160f77-a776-4610-ce3b-7054c02fb658"
   },
   "outputs": [],
   "source": [
    "import kagglehub\n",
    "\n",
    "# Download latest version\n",
    "path = kagglehub.dataset_download(\"gopalbhattrai/pascal-voc-2012-dataset\")\n",
    "\n",
    "print(\"Path to dataset files:\", path)"
   ]
  },
  {
   "cell_type": "code",
   "execution_count": null,
   "metadata": {
    "colab": {
     "base_uri": "https://localhost:8080/"
    },
    "executionInfo": {
     "elapsed": 217136,
     "status": "ok",
     "timestamp": 1755956720353,
     "user": {
      "displayName": "Cccsz B",
      "userId": "04407733429697009593"
     },
     "user_tz": -480
    },
    "id": "jYX-eaw30LNI",
    "outputId": "50be2dd1-4e6e-4749-e9d7-c5150fc7990f"
   },
   "outputs": [],
   "source": [
    "import shutil\n",
    "\n",
    "src = \"/kaggle/input/pascal-voc-2012-dataset/VOC2012_train_val\"\n",
    "dst = \"/content/VOC2012_train_val\"\n",
    "\n",
    "shutil.copytree(src, dst, dirs_exist_ok=True)\n",
    "print(\"✅ 資料已複製到:\", dst)\n"
   ]
  },
  {
   "cell_type": "code",
   "execution_count": null,
   "metadata": {
    "colab": {
     "base_uri": "https://localhost:8080/"
    },
    "executionInfo": {
     "elapsed": 101109,
     "status": "ok",
     "timestamp": 1755956821461,
     "user": {
      "displayName": "Cccsz B",
      "userId": "04407733429697009593"
     },
     "user_tz": -480
    },
    "id": "DcwnYQE50OI6",
    "outputId": "bc6b411d-35a9-406a-e336-515571ccd2a0"
   },
   "outputs": [],
   "source": [
    "!python /content/drive/MyDrive/Superprompt/dataloader_ps.py --image-dir /content/VOC2012_train_val/VOC2012_train_val/JPEGImages \\\n",
    "      --mask-dir /content/VOC2012_train_val/VOC2012_train_val/SegmentationClass \\\n",
    "      --traval-txt /content/VOC2012_train_val/VOC2012_train_val/ImageSets/Segmentation/trainval.txt \\\n",
    "      --train-augment-mult 5"
   ]
  },
  {
   "cell_type": "code",
   "execution_count": null,
   "metadata": {
    "colab": {
     "base_uri": "https://localhost:8080/"
    },
    "executionInfo": {
     "elapsed": 268293,
     "status": "ok",
     "timestamp": 1755957089759,
     "user": {
      "displayName": "Cccsz B",
      "userId": "04407733429697009593"
     },
     "user_tz": -480
    },
    "id": "W_uvtcX20Uem",
    "outputId": "22a6e9c5-8f5d-4c68-9fdf-f57c39c6143d"
   },
   "outputs": [],
   "source": [
    "!pip install \"git+https://github.com/facebookresearch/sam2.git\"\n",
    "\n",
    "!git clone https://github.com/facebookresearch/sam2.git"
   ]
  },
  {
   "cell_type": "code",
   "execution_count": null,
   "metadata": {
    "colab": {
     "base_uri": "https://localhost:8080/"
    },
    "executionInfo": {
     "elapsed": 47003,
     "status": "ok",
     "timestamp": 1755956465868,
     "user": {
      "displayName": "Cccsz B",
      "userId": "04407733429697009593"
     },
     "user_tz": -480
    },
    "id": "fE54wFYb0WJI",
    "outputId": "241a2ef9-c631-47e0-cc2f-90e81f212653"
   },
   "outputs": [],
   "source": [
    "!huggingface-cli login\n",
    "!pip install git+https://github.com/huggingface/transformers.git"
   ]
  },
  {
   "cell_type": "code",
   "execution_count": 13,
   "metadata": {
    "colab": {
     "base_uri": "https://localhost:8080/"
    },
    "executionInfo": {
     "elapsed": 1001295,
     "status": "ok",
     "timestamp": 1755958386583,
     "user": {
      "displayName": "Cccsz B",
      "userId": "04407733429697009593"
     },
     "user_tz": -480
    },
    "id": "1o8VT6W82h5-",
    "outputId": "cb42b1ab-f8f0-4b09-c2f7-02b464af0fdb"
   },
   "outputs": [
    {
     "name": "stdout",
     "output_type": "stream",
     "text": [
      "2025-08-23 13:56:30.225466: I tensorflow/core/util/port.cc:153] oneDNN custom operations are on. You may see slightly different numerical results due to floating-point round-off errors from different computation orders. To turn them off, set the environment variable `TF_ENABLE_ONEDNN_OPTS=0`.\n",
      "2025-08-23 13:56:30.243796: E external/local_xla/xla/stream_executor/cuda/cuda_fft.cc:467] Unable to register cuFFT factory: Attempting to register factory for plugin cuFFT when one has already been registered\n",
      "WARNING: All log messages before absl::InitializeLog() is called are written to STDERR\n",
      "E0000 00:00:1755957390.266120    5586 cuda_dnn.cc:8579] Unable to register cuDNN factory: Attempting to register factory for plugin cuDNN when one has already been registered\n",
      "E0000 00:00:1755957390.272993    5586 cuda_blas.cc:1407] Unable to register cuBLAS factory: Attempting to register factory for plugin cuBLAS when one has already been registered\n",
      "W0000 00:00:1755957390.290456    5586 computation_placer.cc:177] computation placer already registered. Please check linkage and avoid linking the same target more than once.\n",
      "W0000 00:00:1755957390.290493    5586 computation_placer.cc:177] computation placer already registered. Please check linkage and avoid linking the same target more than once.\n",
      "W0000 00:00:1755957390.290496    5586 computation_placer.cc:177] computation placer already registered. Please check linkage and avoid linking the same target more than once.\n",
      "W0000 00:00:1755957390.290499    5586 computation_placer.cc:177] computation placer already registered. Please check linkage and avoid linking the same target more than once.\n",
      "2025-08-23 13:56:30.295657: I tensorflow/core/platform/cpu_feature_guard.cc:210] This TensorFlow binary is optimized to use available CPU instructions in performance-critical operations.\n",
      "To enable the following instructions: AVX2 AVX512F AVX512_VNNI FMA, in other operations, rebuild TensorFlow with the appropriate compiler flags.\n",
      "sam2 package path: /content/sam2/sam2/__init__.py\n",
      "predictor path: /content/sam2/sam2/sam2_image_predictor.py\n",
      "Caching images from manifests:   0% 0/11642 [00:00<?, ?img/s]\n",
      "preprocessor_config.json: 100% 585/585 [00:00<00:00, 3.89MB/s]\n",
      "\n",
      "config.json: 100% 744/744 [00:00<00:00, 4.88MB/s]\n",
      "\n",
      "model.safetensors:   0% 0.00/343M [00:00<?, ?B/s]\u001b[A\n",
      "model.safetensors:   0% 592k/343M [00:01<17:46, 321kB/s]\u001b[A\n",
      "model.safetensors:  13% 44.7M/343M [00:01<00:09, 31.8MB/s]\u001b[A\n",
      "model.safetensors:  21% 70.4M/343M [00:02<00:05, 45.9MB/s]\u001b[A\n",
      "model.safetensors: 100% 343M/343M [00:02<00:00, 136MB/s]\n",
      "Caching images from manifests: 100% 11642/11642 [16:27<00:00, 11.79img/s]\n",
      "Cache built for 11642 images → /content/cache512\n"
     ]
    }
   ],
   "source": [
    "!python /content/drive/MyDrive/Superprompt/train.py \\\n",
    "  --build-cache \\\n",
    "  --cache-dir /content/cache512 \\\n",
    "  --cache-exts .jpg,.jpeg,.png \\\n",
    "  --manifest-train /content/FFS_binseg/manifest_train.csv \\\n",
    "  --manifest-val /content/FFS_binseg/manifest_val.csv \\\n",
    "  --sam2-cfg configs/sam2.1/sam2.1_hiera_s.yaml \\\n",
    "  --sam2-ckpt /content/drive/MyDrive/ARFS/sam2.1_hiera_small.pt \\\n",
    "  --dinov3-model-id facebook/dinov3-vitb16-pretrain-lvd1689m \\\n",
    "  --cache-long 512"
   ]
  },
  {
   "cell_type": "code",
   "execution_count": 9,
   "metadata": {
    "executionInfo": {
     "elapsed": 1,
     "status": "ok",
     "timestamp": 1755957139796,
     "user": {
      "displayName": "Cccsz B",
      "userId": "04407733429697009593"
     },
     "user_tz": -480
    },
    "id": "v8UcI0tneKZq"
   },
   "outputs": [],
   "source": [
    "import os\n",
    "os.chdir(\"/content/sam2/sam2\")"
   ]
  },
  {
   "cell_type": "code",
   "execution_count": null,
   "metadata": {
    "colab": {
     "base_uri": "https://localhost:8080/"
    },
    "id": "aR708e9Z0a98",
    "outputId": "f7cffb67-f901-45fd-e481-3152fe9ce00b"
   },
   "outputs": [
    {
     "name": "stdout",
     "output_type": "stream",
     "text": [
      "2025-08-23 14:31:37.428408: I tensorflow/core/util/port.cc:153] oneDNN custom operations are on. You may see slightly different numerical results due to floating-point round-off errors from different computation orders. To turn them off, set the environment variable `TF_ENABLE_ONEDNN_OPTS=0`.\n",
      "2025-08-23 14:31:37.447237: E external/local_xla/xla/stream_executor/cuda/cuda_fft.cc:467] Unable to register cuFFT factory: Attempting to register factory for plugin cuFFT when one has already been registered\n",
      "WARNING: All log messages before absl::InitializeLog() is called are written to STDERR\n",
      "E0000 00:00:1755959497.469206   15168 cuda_dnn.cc:8579] Unable to register cuDNN factory: Attempting to register factory for plugin cuDNN when one has already been registered\n",
      "E0000 00:00:1755959497.475906   15168 cuda_blas.cc:1407] Unable to register cuBLAS factory: Attempting to register factory for plugin cuBLAS when one has already been registered\n",
      "W0000 00:00:1755959497.493200   15168 computation_placer.cc:177] computation placer already registered. Please check linkage and avoid linking the same target more than once.\n",
      "W0000 00:00:1755959497.493228   15168 computation_placer.cc:177] computation placer already registered. Please check linkage and avoid linking the same target more than once.\n",
      "W0000 00:00:1755959497.493232   15168 computation_placer.cc:177] computation placer already registered. Please check linkage and avoid linking the same target more than once.\n",
      "W0000 00:00:1755959497.493234   15168 computation_placer.cc:177] computation placer already registered. Please check linkage and avoid linking the same target more than once.\n",
      "2025-08-23 14:31:37.498238: I tensorflow/core/platform/cpu_feature_guard.cc:210] This TensorFlow binary is optimized to use available CPU instructions in performance-critical operations.\n",
      "To enable the following instructions: AVX2 AVX512F AVX512_VNNI FMA, in other operations, rebuild TensorFlow with the appropriate compiler flags.\n",
      "Built index (classes: 15)\n",
      "Built index (classes: 15)\n",
      "[sam2] differentiable prompt->mask enabled\n",
      "sam2 package path: /content/sam2/sam2/__init__.py\n",
      "predictor path: /content/sam2/sam2/sam2_image_predictor.py\n",
      "Epoch 0:  14% 138/1016 [02:24<13:55,  1.05batch/s]"
     ]
    }
   ],
   "source": [
    "!python /content/drive/MyDrive/Superprompt/supseg_train.py \\\n",
    "    --manifest-train /content/FFS_binseg/manifest_train.csv \\\n",
    "    --manifest-val   /content/FFS_binseg/manifest_val.csv \\\n",
    "    --cache-dir      /content/cache512 \\\n",
    "    --cache-long     512 \\\n",
    "    --sam2-cfg       configs/sam2.1/sam2.1_hiera_s.yaml \\\n",
    "    --sam2-ckpt      /content/drive/MyDrive/ARFS/sam2.1_hiera_small.pt \\\n",
    "    --episodes 16260 --role base --epochs 100 --batch-size 16 \\\n",
    "    --epochs 100 --batch-size 16 --workers 8 \\\n",
    "    --pos-th 0.9 --neg-th 0.1 \\\n",
    "    --lambda-dice 1.0 --lambda-ce 0.5 \\\n",
    "    --sam2-diff --k_pos 10 --k_neg 8 \\\n",
    "    --out-dir /content/drive/MyDrive/Superprompt/weight --fold 0"
   ]
  },
  {
   "cell_type": "code",
   "execution_count": null,
   "metadata": {
    "id": "ShY7LGpbi5Si"
   },
   "outputs": [],
   "source": []
  }
 ],
 "metadata": {
  "accelerator": "GPU",
  "colab": {
   "authorship_tag": "ABX9TyMM6s8yLKYnryISQv/DlWBn",
   "gpuType": "A100",
   "machine_shape": "hm",
   "provenance": []
  },
  "kernelspec": {
   "display_name": "Python 3",
   "name": "python3"
  },
  "language_info": {
   "name": "python"
  }
 },
 "nbformat": 4,
 "nbformat_minor": 0
}
